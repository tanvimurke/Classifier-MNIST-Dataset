{
 "cells": [
  {
   "cell_type": "code",
   "execution_count": 67,
   "id": "b68bf6cb",
   "metadata": {},
   "outputs": [],
   "source": [
    "import struct\n",
    "import gzip\n",
    "import numpy as np\n",
    "import matplotlib.pyplot as plt"
   ]
  },
  {
   "cell_type": "code",
   "execution_count": 68,
   "id": "5704709b",
   "metadata": {},
   "outputs": [],
   "source": [
    "#load data \n",
    "def loadData(file_name):\n",
    "    data = None\n",
    "    with gzip.open(file_name, 'rb') as f:\n",
    "        magic, size = struct.unpack(\">II\", f.read(8))\n",
    "    \n",
    "        if \"images\" in file_name:\n",
    "            nrows, ncols = struct.unpack(\">II\", f.read(8))\n",
    "            data = np.frombuffer(f.read(), dtype=np.dtype(np.uint8).newbyteorder('>'))\n",
    "            #data = data.reshape((size, nrows, ncols))\n",
    "            data = data.reshape((size, nrows * ncols))\n",
    "        else:\n",
    "            data = np.frombuffer(f.read(), dtype=np.dtype(np.uint8).newbyteorder('>'))\n",
    "            data = data.reshape((size,))\n",
    "    \n",
    "    return data"
   ]
  },
  {
   "cell_type": "code",
   "execution_count": 69,
   "id": "c41d157c",
   "metadata": {},
   "outputs": [
    {
     "name": "stdout",
     "output_type": "stream",
     "text": [
      "Train images shape: \n",
      "(60000, 784)\n",
      "Train labels shape: \n",
      "(60000,)\n",
      "Test images shape: \n",
      "(10000, 784)\n",
      "Test labels shape: \n",
      "(10000,)\n"
     ]
    }
   ],
   "source": [
    "#training and testing data\n",
    "train_x = loadData(\"downloads/mnist/train-images-idx3-ubyte.gz\")\n",
    "train_y = loadData(\"downloads/mnist/train-labels-idx1-ubyte.gz\")\n",
    "test_x = loadData(\"downloads/mnist/t10k-images-idx3-ubyte.gz\")\n",
    "test_y = loadData(\"downloads/mnist/t10k-labels-idx1-ubyte.gz\")\n",
    "\n",
    "print(\"Train images shape: \")\n",
    "print(train_x.shape)\n",
    "\n",
    "print(\"Train labels shape: \")\n",
    "print(train_y.shape)\n",
    "\n",
    "print(\"Test images shape: \")\n",
    "print(test_x.shape)\n",
    "\n",
    "print(\"Test labels shape: \")\n",
    "print(test_y.shape)"
   ]
  },
  {
   "cell_type": "markdown",
   "id": "896e7887",
   "metadata": {},
   "source": [
    "<h1>Naive Bayes<h1>"
   ]
  },
  {
   "cell_type": "code",
   "execution_count": 70,
   "id": "45c82cd3",
   "metadata": {},
   "outputs": [],
   "source": [
    "from sklearn.naive_bayes import BernoulliNB\n",
    "bnb = BernoulliNB()"
   ]
  },
  {
   "cell_type": "code",
   "execution_count": 71,
   "id": "9dcb28f0",
   "metadata": {},
   "outputs": [],
   "source": [
    "bnb_model = bnb.fit(train_x, train_y)"
   ]
  },
  {
   "cell_type": "code",
   "execution_count": 91,
   "id": "2da0bfab",
   "metadata": {},
   "outputs": [],
   "source": [
    "predictiontest = bnb_model.predict(test_x)\n",
    "predictiontrain = bnb_model.predict(train_x)"
   ]
  },
  {
   "cell_type": "code",
   "execution_count": 92,
   "id": "0e173563",
   "metadata": {},
   "outputs": [
    {
     "name": "stdout",
     "output_type": "stream",
     "text": [
      "Confusion Matrix of Naive Bayes Test\n",
      "[[ 887    0    4    7    2   41   16    1   22    0]\n",
      " [   0 1085   10    5    0    9    6    0   19    1]\n",
      " [  19    8  852   29   17    4   32   14   55    2]\n",
      " [   5   15   34  844    0   13    9   15   49   26]\n",
      " [   2    6    4    0  795    4   21    1   23  126]\n",
      " [  23   12    7  129   30  627   16    8   21   19]\n",
      " [  18   18   15    2   13   35  851    0    6    0]\n",
      " [   1   24   14    4   15    0    0  871   27   72]\n",
      " [  16   23   13   76   17   22    7    6  758   36]\n",
      " [   9   13    5    9   74    8    0   24   24  843]]\n",
      "\n",
      "Confusion Matrix of Naive Bayes Train\n",
      "[[5273    3   26   38   16  283  114    0  161    9]\n",
      " [   0 6457   59   16    4   70   26    4   90   16]\n",
      " [  93   86 4913  149  128   19  232   60  261   17]\n",
      " [  56  138  275 4871   19  148   54   74  309  187]\n",
      " [  13   52   38    0 4693   29   89   28  124  776]\n",
      " [ 158   72   53  805  161 3763  118   23  108  160]\n",
      " [  60  158  119    2   47  170 5318    0   42    2]\n",
      " [  26  133   47   18  168    9    1 5297  127  439]\n",
      " [  80  227  102  476   65  157   35   13 4454  242]\n",
      " [  54   91   27   82  431   24    1  235  168 4836]]\n"
     ]
    }
   ],
   "source": [
    "from sklearn.metrics import confusion_matrix\n",
    "con_matrix_test = confusion_matrix(test_y, predictiontest)\n",
    "con_matrix_train = confusion_matrix(train_y, predictiontrain)\n",
    "print(\"Confusion Matrix of Naive Bayes Test\")\n",
    "print(con_matrix_test)\n",
    "print()\n",
    "print(\"Confusion Matrix of Naive Bayes Train\")\n",
    "print(con_matrix_train)"
   ]
  },
  {
   "cell_type": "code",
   "execution_count": 93,
   "id": "775d5fef",
   "metadata": {},
   "outputs": [
    {
     "name": "stdout",
     "output_type": "stream",
     "text": [
      "Score of Naive Bayes:\n",
      "0.8413\n"
     ]
    }
   ],
   "source": [
    "score = gnb_model.score(test_x,test_y)\n",
    "print(\"Score of Naive Bayes:\")\n",
    "print(score)"
   ]
  },
  {
   "cell_type": "code",
   "execution_count": 94,
   "id": "70513f3d",
   "metadata": {},
   "outputs": [
    {
     "name": "stdout",
     "output_type": "stream",
     "text": [
      "Accuracy of Naive Bayes:  84.13000000000001 %\n"
     ]
    }
   ],
   "source": [
    "from sklearn.metrics import accuracy_score\n",
    "print(\"Accuracy of Naive Bayes:  {} %\".format(accuracy_score(test_y, predictiontest)*100))"
   ]
  },
  {
   "cell_type": "code",
   "execution_count": 77,
   "id": "cebb4fde",
   "metadata": {},
   "outputs": [
    {
     "name": "stdout",
     "output_type": "stream",
     "text": [
      "Visual Representation of Naive Bayes's Confusion Matrix Test:\n"
     ]
    },
    {
     "data": {
      "text/plain": [
       "<matplotlib.image.AxesImage at 0x7f95e2073be0>"
      ]
     },
     "execution_count": 77,
     "metadata": {},
     "output_type": "execute_result"
    },
    {
     "data": {
      "image/png": "[encoded data removed]",
      "text/plain": [
       "<Figure size 640x480 with 1 Axes>"
      ]
     },
     "metadata": {},
     "output_type": "display_data"
    }
   ],
   "source": [
    "print(\"Visual Representation of Naive Bayes's Confusion Matrix Test:\")\n",
    "plt.imshow(con_matrix_test)"
   ]
  },
  {
   "cell_type": "code",
   "execution_count": 78,
   "id": "91f3a64f",
   "metadata": {},
   "outputs": [
    {
     "name": "stdout",
     "output_type": "stream",
     "text": [
      "Visual Representation of Naive Bayes's Confusion Matrix Train:\n"
     ]
    },
    {
     "data": {
      "text/plain": [
       "<matplotlib.image.AxesImage at 0x7f95c00adfd0>"
      ]
     },
     "execution_count": 78,
     "metadata": {},
     "output_type": "execute_result"
    },
    {
     "data": {
      "image/png": "[encoded data removed]",
      "text/plain": [
       "<Figure size 640x480 with 1 Axes>"
      ]
     },
     "metadata": {},
     "output_type": "display_data"
    }
   ],
   "source": [
    "print(\"Visual Representation of Naive Bayes's Confusion Matrix Train:\")\n",
    "plt.imshow(con_matrix_train)"
   ]
  },
  {
   "cell_type": "code",
   "execution_count": 79,
   "id": "e3b11007",
   "metadata": {},
   "outputs": [
    {
     "name": "stdout",
     "output_type": "stream",
     "text": [
      "Prediction: \n"
     ]
    },
    {
     "data": {
      "text/plain": [
       "7"
      ]
     },
     "execution_count": 79,
     "metadata": {},
     "output_type": "execute_result"
    },
    {
     "data": {
      "image/png": "[encoded data removed]",
      "text/plain": [
       "<Figure size 640x480 with 1 Axes>"
      ]
     },
     "metadata": {},
     "output_type": "display_data"
    }
   ],
   "source": [
    "#Analysis of Confusion Matrix\n",
    "index = 0\n",
    "plt.imshow(np.reshape(test_x[index],(28,28)))\n",
    "print(\"Prediction: \")\n",
    "gnb_model.predict([test_x[index]])[0]"
   ]
  },
  {
   "cell_type": "code",
   "execution_count": 80,
   "id": "4fede668",
   "metadata": {},
   "outputs": [
    {
     "name": "stdout",
     "output_type": "stream",
     "text": [
      "Prediction: \n"
     ]
    },
    {
     "data": {
      "text/plain": [
       "4"
      ]
     },
     "execution_count": 80,
     "metadata": {},
     "output_type": "execute_result"
    },
    {
     "data": {
      "image/png": "[encoded data removed]",
      "text/plain": [
       "<Figure size 640x480 with 1 Axes>"
      ]
     },
     "metadata": {},
     "output_type": "display_data"
    }
   ],
   "source": [
    "#Analysis of Confusion Matrix\n",
    "index = 8\n",
    "plt.imshow(np.reshape(test_x[index],(28,28)))\n",
    "print(\"Prediction: \")\n",
    "gnb_model.predict([test_x[index]])[0]"
   ]
  },
  {
   "cell_type": "markdown",
   "id": "dbfabb3e",
   "metadata": {},
   "source": [
    "<h1>Logistic Regression<h1>"
   ]
  },
  {
   "cell_type": "code",
   "execution_count": 81,
   "id": "cf0d3537",
   "metadata": {},
   "outputs": [],
   "source": [
    "from sklearn.linear_model import LogisticRegression"
   ]
  },
  {
   "cell_type": "code",
   "execution_count": 82,
   "id": "0f0fa6bc",
   "metadata": {},
   "outputs": [],
   "source": [
    "lr = LogisticRegression(\n",
    "    penalty=\"l2\",  \n",
    "    class_weight=None,\n",
    "    random_state=0,\n",
    "    solver=\"lbfgs\",\n",
    "    multi_class=\"multinomial\",\n",
    "    max_iter=500)"
   ]
  },
  {
   "cell_type": "code",
   "execution_count": 83,
   "id": "40495d5d",
   "metadata": {},
   "outputs": [
    {
     "name": "stderr",
     "output_type": "stream",
     "text": [
      "/Users/tanvimurke/opt/anaconda3/lib/python3.9/site-packages/sklearn/linear_model/_logistic.py:814: ConvergenceWarning: lbfgs failed to converge (status=1):\n",
      "STOP: TOTAL NO. of ITERATIONS REACHED LIMIT.\n",
      "\n",
      "Increase the number of iterations (max_iter) or scale the data as shown in:\n",
      "    https://scikit-learn.org/stable/modules/preprocessing.html\n",
      "Please also refer to the documentation for alternative solver options:\n",
      "    https://scikit-learn.org/stable/modules/linear_model.html#logistic-regression\n",
      "  n_iter_i = _check_optimize_result(\n"
     ]
    }
   ],
   "source": [
    "reg_model = lr.fit(train_x,train_y)"
   ]
  },
  {
   "cell_type": "code",
   "execution_count": 95,
   "id": "c55b7cd7",
   "metadata": {},
   "outputs": [],
   "source": [
    "predictiontest = reg_model.predict(test_x)\n",
    "predictiontrain = reg_model.predict(train_x)"
   ]
  },
  {
   "cell_type": "code",
   "execution_count": 96,
   "id": "c4e2bb26",
   "metadata": {},
   "outputs": [
    {
     "name": "stdout",
     "output_type": "stream",
     "text": [
      "Confusion Matrix of Logistic Regression Test\n",
      "[[ 954    0    1    4    1    7    7    2    4    0]\n",
      " [   0 1112    8    2    0    1    3    1    8    0]\n",
      " [   3   12  919   18   12    6   12    9   37    4]\n",
      " [   4    2   17  923    2   24    2    9   20    7]\n",
      " [   2    3    5    4  918    0   10    5    9   26]\n",
      " [  12    4    4   35   10  762   16    8   35    6]\n",
      " [  10    3    7    2    6   17  907    1    4    1]\n",
      " [   4    7   24   10    5    1    0  943    2   32]\n",
      " [   7   13    6   23    7   21    6   13  867   11]\n",
      " [   8    6    2   11   25    3    0   22   13  919]]\n",
      "\n",
      "Confusion Matrix of Logistic Regression Train\n",
      "[[5796    0   15    8   10   20   25    4   39    6]\n",
      " [   1 6607   27   18    5   12    2   11   46   13]\n",
      " [  17   41 5502   90   53   21   42   52  120   20]\n",
      " [  19   17  110 5625    6  149   16   41  103   45]\n",
      " [   8   22   24    7 5528    8   36   17   35  157]\n",
      " [  39   16   36  154   46 4867   70   10  148   35]\n",
      " [  26    9   33    3   26   52 5737    2   29    1]\n",
      " [   7   12   51   21   42    5    5 5941   18  163]\n",
      " [  24   78   50  122   18  131   29   18 5330   51]\n",
      " [  13   15   13   66  127   29    3  139   46 5498]]\n"
     ]
    }
   ],
   "source": [
    "con_matrix_test = confusion_matrix(test_y, predictiontest)\n",
    "print(\"Confusion Matrix of Logistic Regression Test\")\n",
    "print(con_matrix_test)\n",
    "print()\n",
    "con_matrix_train = confusion_matrix(train_y, predictiontrain)\n",
    "print(\"Confusion Matrix of Logistic Regression Train\")\n",
    "print(con_matrix_train)"
   ]
  },
  {
   "cell_type": "code",
   "execution_count": 97,
   "id": "013347c2",
   "metadata": {},
   "outputs": [
    {
     "name": "stdout",
     "output_type": "stream",
     "text": [
      "Score of Logistic Regression:\n",
      "0.9224\n"
     ]
    }
   ],
   "source": [
    "score = reg_model.score(test_x,test_y)\n",
    "print(\"Score of Logistic Regression:\")\n",
    "print(score)"
   ]
  },
  {
   "cell_type": "code",
   "execution_count": 98,
   "id": "00e44558",
   "metadata": {},
   "outputs": [
    {
     "name": "stdout",
     "output_type": "stream",
     "text": [
      "Accuracy of Logistic Regression: 92.24 %\n"
     ]
    }
   ],
   "source": [
    "print(\"Accuracy of Logistic Regression: {} %\".format(accuracy_score(test_y, predictiontest)*100))"
   ]
  },
  {
   "cell_type": "code",
   "execution_count": 99,
   "id": "843393ec",
   "metadata": {},
   "outputs": [
    {
     "name": "stdout",
     "output_type": "stream",
     "text": [
      "Visual Representation of Logistic Regression's Confusion Matrix Test:\n"
     ]
    },
    {
     "data": {
      "text/plain": [
       "<matplotlib.image.AxesImage at 0x7f95b022b6a0>"
      ]
     },
     "execution_count": 99,
     "metadata": {},
     "output_type": "execute_result"
    },
    {
     "data": {
      "image/png": "[encoded data removed]",
      "text/plain": [
       "<Figure size 640x480 with 1 Axes>"
      ]
     },
     "metadata": {},
     "output_type": "display_data"
    }
   ],
   "source": [
    "print(\"Visual Representation of Logistic Regression's Confusion Matrix Test:\")\n",
    "plt.imshow(con_matrix_test)\n"
   ]
  },
  {
   "cell_type": "code",
   "execution_count": 100,
   "id": "e7d3220e",
   "metadata": {},
   "outputs": [
    {
     "name": "stdout",
     "output_type": "stream",
     "text": [
      "Visual Representation of Logistic Regression's Confusion Matrix Train:\n"
     ]
    },
    {
     "data": {
      "text/plain": [
       "<matplotlib.image.AxesImage at 0x7f95b070beb0>"
      ]
     },
     "execution_count": 100,
     "metadata": {},
     "output_type": "execute_result"
    },
    {
     "data": {
      "image/png": "[encoded data removed]",
      "text/plain": [
       "<Figure size 640x480 with 1 Axes>"
      ]
     },
     "metadata": {},
     "output_type": "display_data"
    }
   ],
   "source": [
    "print(\"Visual Representation of Logistic Regression's Confusion Matrix Train:\")\n",
    "plt.imshow(con_matrix_train)"
   ]
  },
  {
   "cell_type": "code",
   "execution_count": 101,
   "id": "946c85e4",
   "metadata": {},
   "outputs": [
    {
     "name": "stdout",
     "output_type": "stream",
     "text": [
      "Prediction: \n"
     ]
    },
    {
     "data": {
      "text/plain": [
       "7"
      ]
     },
     "execution_count": 101,
     "metadata": {},
     "output_type": "execute_result"
    },
    {
     "data": {
      "image/png": "[encoded data removed]",
      "text/plain": [
       "<Figure size 640x480 with 1 Axes>"
      ]
     },
     "metadata": {},
     "output_type": "display_data"
    }
   ],
   "source": [
    "#Analysis of Confusion Matrix\n",
    "index = 0\n",
    "plt.imshow(np.reshape(test_x[index],(28,28)))\n",
    "print(\"Prediction: \")\n",
    "reg_model.predict([test_x[index]])[0]"
   ]
  },
  {
   "cell_type": "code",
   "execution_count": 102,
   "id": "2507f93c",
   "metadata": {},
   "outputs": [
    {
     "name": "stdout",
     "output_type": "stream",
     "text": [
      "Prediction: \n"
     ]
    },
    {
     "data": {
      "text/plain": [
       "6"
      ]
     },
     "execution_count": 102,
     "metadata": {},
     "output_type": "execute_result"
    },
    {
     "data": {
      "image/png": "[encoded data removed]",
      "text/plain": [
       "<Figure size 640x480 with 1 Axes>"
      ]
     },
     "metadata": {},
     "output_type": "display_data"
    }
   ],
   "source": [
    "#Analysis of Confusion Matrix\n",
    "index = 8\n",
    "plt.imshow(np.reshape(test_x[index],(28,28)))\n",
    "print(\"Prediction: \")\n",
    "reg_model.predict([test_x[index]])[0]"
   ]
  },
  {
   "cell_type": "code",
   "execution_count": 104,
   "id": "b83d4103",
   "metadata": {},
   "outputs": [],
   "source": [
    "import pickle\n",
    "\n",
    "with open(\"Downloads/nb.model.pkl\", \"wb\") as file:\n",
    "    pickle.dump(bnb_model, file)\n",
    "    \n",
    "with open(\"Downloads/lr.model.pkl\", \"wb\") as file:\n",
    "    pickle.dump(reg_model, file)    "
   ]
  },
  {
   "cell_type": "code",
   "execution_count": null,
   "id": "9d23c063",
   "metadata": {},
   "outputs": [],
   "source": []
  }
 ],
 "metadata": {
  "kernelspec": {
   "display_name": "Python 3 (ipykernel)",
   "language": "python",
   "name": "python3"
  },
  "language_info": {
   "codemirror_mode": {
    "name": "ipython",
    "version": 3
   },
   "file_extension": ".py",
   "mimetype": "text/x-python",
   "name": "python",
   "nbconvert_exporter": "python",
   "pygments_lexer": "ipython3",
   "version": "3.9.13"
  }
 },
 "nbformat": 4,
 "nbformat_minor": 5
}
